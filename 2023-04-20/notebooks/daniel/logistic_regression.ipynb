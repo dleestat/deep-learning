{
 "cells": [
  {
   "cell_type": "code",
   "execution_count": 1,
   "id": "75d2bcaa",
   "metadata": {
    "ExecuteTime": {
     "end_time": "2023-04-18T04:05:41.707645Z",
     "start_time": "2023-04-18T04:05:40.581619Z"
    }
   },
   "outputs": [],
   "source": [
    "import matplotlib.pyplot as plt\n",
    "import numpy as np\n",
    "import pandas as pd\n",
    "import torch\n",
    "%config InlineBackend.figure_format = \"retina\"\n",
    "\n",
    "from sklearn.compose import make_column_transformer\n",
    "from sklearn.linear_model import LogisticRegression\n",
    "from sklearn.model_selection import train_test_split\n",
    "from sklearn.pipeline import make_pipeline"
   ]
  },
  {
   "cell_type": "markdown",
   "id": "8dbc6ef2",
   "metadata": {},
   "source": [
    "# Data"
   ]
  },
  {
   "cell_type": "markdown",
   "id": "6764539b",
   "metadata": {},
   "source": [
    "## Read CSV"
   ]
  },
  {
   "cell_type": "code",
   "execution_count": 2,
   "id": "e39efb21",
   "metadata": {
    "ExecuteTime": {
     "end_time": "2023-04-18T04:05:41.830460Z",
     "start_time": "2023-04-18T04:05:41.708987Z"
    }
   },
   "outputs": [
    {
     "name": "stdout",
     "output_type": "stream",
     "text": [
      "Citation Request:\r\n",
      "   This breast cancer databases was obtained from the University of Wisconsin\r\n",
      "   Hospitals, Madison from Dr. William H. Wolberg.  If you publish results\r\n",
      "   when using this database, then please include this information in your\r\n",
      "   acknowledgements.  Also, please cite one or more of:\r\n",
      "\r\n",
      "   1. O. L. Mangasarian and W. H. Wolberg: \"Cancer diagnosis via linear \r\n",
      "      programming\", SIAM News, Volume 23, Number 5, September 1990, pp 1 & 18.\r\n",
      "\r\n",
      "   2. William H. Wolberg and O.L. Mangasarian: \"Multisurface method of \r\n",
      "      pattern separation for medical diagnosis applied to breast cytology\", \r\n",
      "      Proceedings of the National Academy of Sciences, U.S.A., Volume 87, \r\n",
      "      December 1990, pp 9193-9196.\r\n",
      "\r\n",
      "   3. O. L. Mangasarian, R. Setiono, and W.H. Wolberg: \"Pattern recognition \r\n",
      "      via linear programming: Theory and application to medical diagnosis\", \r\n",
      "      in: \"Large-scale numerical optimization\", Thomas F. Coleman and Yuying\r\n",
      "      Li, editors, SIAM Publications, Philadelphia 1990, pp 22-30.\r\n",
      "\r\n",
      "   4. K. P. Bennett & O. L. Mangasarian: \"Robust linear programming \r\n",
      "      discrimination of two linearly inseparable sets\", Optimization Methods\r\n",
      "      and Software 1, 1992, 23-34 (Gordon & Breach Science Publishers).\r\n",
      "\r\n",
      "1. Title: Wisconsin Breast Cancer Database (January 8, 1991)\r\n",
      "\r\n",
      "2. Sources:\r\n",
      "   -- Dr. WIlliam H. Wolberg (physician)\r\n",
      "      University of Wisconsin Hospitals\r\n",
      "      Madison, Wisconsin\r\n",
      "      USA\r\n",
      "   -- Donor: Olvi Mangasarian (mangasarian@cs.wisc.edu)\r\n",
      "      Received by David W. Aha (aha@cs.jhu.edu)\r\n",
      "   -- Date: 15 July 1992\r\n",
      "\r\n",
      "3. Past Usage:\r\n",
      "\r\n",
      "   Attributes 2 through 10 have been used to represent instances.\r\n",
      "   Each instance has one of 2 possible classes: benign or malignant.\r\n",
      "\r\n",
      "   1. Wolberg,~W.~H., \\& Mangasarian,~O.~L. (1990). Multisurface method of \r\n",
      "      pattern separation for medical diagnosis applied to breast cytology. In\r\n",
      "      {\\it Proceedings of the National Academy of Sciences}, {\\it 87},\r\n",
      "      9193--9196.\r\n",
      "      -- Size of data set: only 369 instances (at that point in time)\r\n",
      "      -- Collected classification results: 1 trial only\r\n",
      "      -- Two pairs of parallel hyperplanes were found to be consistent with\r\n",
      "         50% of the data\r\n",
      "         -- Accuracy on remaining 50% of dataset: 93.5%\r\n",
      "      -- Three pairs of parallel hyperplanes were found to be consistent with\r\n",
      "         67% of data\r\n",
      "         -- Accuracy on remaining 33% of dataset: 95.9%\r\n",
      "\r\n",
      "   2. Zhang,~J. (1992). Selecting typical instances in instance-based\r\n",
      "      learning.  In {\\it Proceedings of the Ninth International Machine\r\n",
      "      Learning Conference} (pp. 470--479).  Aberdeen, Scotland: Morgan\r\n",
      "      Kaufmann.\r\n",
      "      -- Size of data set: only 369 instances (at that point in time)\r\n",
      "      -- Applied 4 instance-based learning algorithms \r\n",
      "      -- Collected classification results averaged over 10 trials\r\n",
      "      -- Best accuracy result: \r\n",
      "         -- 1-nearest neighbor: 93.7%\r\n",
      "         -- trained on 200 instances, tested on the other 169\r\n",
      "      -- Also of interest:\r\n",
      "         -- Using only typical instances: 92.2% (storing only 23.1 instances)\r\n",
      "         -- trained on 200 instances, tested on the other 169\r\n",
      "\r\n",
      "4. Relevant Information:\r\n",
      "\r\n",
      "   Samples arrive periodically as Dr. Wolberg reports his clinical cases.\r\n",
      "   The database therefore reflects this chronological grouping of the data.\r\n",
      "   This grouping information appears immediately below, having been removed\r\n",
      "   from the data itself:\r\n",
      "\r\n",
      "     Group 1: 367 instances (January 1989)\r\n",
      "     Group 2:  70 instances (October 1989)\r\n",
      "     Group 3:  31 instances (February 1990)\r\n",
      "     Group 4:  17 instances (April 1990)\r\n",
      "     Group 5:  48 instances (August 1990)\r\n",
      "     Group 6:  49 instances (Updated January 1991)\r\n",
      "     Group 7:  31 instances (June 1991)\r\n",
      "     Group 8:  86 instances (November 1991)\r\n",
      "     -----------------------------------------\r\n",
      "     Total:   699 points (as of the donated datbase on 15 July 1992)\r\n",
      "\r\n",
      "   Note that the results summarized above in Past Usage refer to a dataset\r\n",
      "   of size 369, while Group 1 has only 367 instances.  This is because it\r\n",
      "   originally contained 369 instances; 2 were removed.  The following\r\n",
      "   statements summarizes changes to the original Group 1's set of data:\r\n",
      "\r\n",
      "   #####  Group 1 : 367 points: 200B 167M (January 1989)\r\n",
      "   #####  Revised Jan 10, 1991: Replaced zero bare nuclei in 1080185 & 1187805\r\n",
      "   #####  Revised Nov 22,1991: Removed 765878,4,5,9,7,10,10,10,3,8,1 no record\r\n",
      "   #####                  : Removed 484201,2,7,8,8,4,3,10,3,4,1 zero epithelial\r\n",
      "   #####                  : Changed 0 to 1 in field 6 of sample 1219406\r\n",
      "   #####                  : Changed 0 to 1 in field 8 of following sample:\r\n",
      "   #####                  : 1182404,2,3,1,1,1,2,0,1,1,1\r\n",
      "\r\n",
      "5. Number of Instances: 699 (as of 15 July 1992)\r\n",
      "\r\n",
      "6. Number of Attributes: 10 plus the class attribute\r\n",
      "\r\n",
      "7. Attribute Information: (class attribute has been moved to last column)\r\n",
      "\r\n",
      "   #  Attribute                     Domain\r\n",
      "   -- -----------------------------------------\r\n",
      "   1. Sample code number            id number\r\n",
      "   2. Clump Thickness               1 - 10\r\n",
      "   3. Uniformity of Cell Size       1 - 10\r\n",
      "   4. Uniformity of Cell Shape      1 - 10\r\n",
      "   5. Marginal Adhesion             1 - 10\r\n",
      "   6. Single Epithelial Cell Size   1 - 10\r\n",
      "   7. Bare Nuclei                   1 - 10\r\n",
      "   8. Bland Chromatin               1 - 10\r\n",
      "   9. Normal Nucleoli               1 - 10\r\n",
      "  10. Mitoses                       1 - 10\r\n",
      "  11. Class:                        (2 for benign, 4 for malignant)\r\n",
      "\r\n",
      "8. Missing attribute values: 16\r\n",
      "\r\n",
      "   There are 16 instances in Groups 1 to 6 that contain a single missing \r\n",
      "   (i.e., unavailable) attribute value, now denoted by \"?\".  \r\n",
      "\r\n",
      "9. Class distribution:\r\n",
      " \r\n",
      "   Benign: 458 (65.5%)\r\n",
      "   Malignant: 241 (34.5%)\r\n"
     ]
    }
   ],
   "source": [
    "!cat data/breast-cancer-wisconsin.names"
   ]
  },
  {
   "cell_type": "code",
   "execution_count": 3,
   "id": "4815354b",
   "metadata": {
    "ExecuteTime": {
     "end_time": "2023-04-18T04:05:41.856991Z",
     "start_time": "2023-04-18T04:05:41.835823Z"
    }
   },
   "outputs": [
    {
     "data": {
      "text/html": [
       "<div>\n",
       "<style scoped>\n",
       "    .dataframe tbody tr th:only-of-type {\n",
       "        vertical-align: middle;\n",
       "    }\n",
       "\n",
       "    .dataframe tbody tr th {\n",
       "        vertical-align: top;\n",
       "    }\n",
       "\n",
       "    .dataframe thead th {\n",
       "        text-align: right;\n",
       "    }\n",
       "</style>\n",
       "<table border=\"1\" class=\"dataframe\">\n",
       "  <thead>\n",
       "    <tr style=\"text-align: right;\">\n",
       "      <th></th>\n",
       "      <th>1</th>\n",
       "      <th>2</th>\n",
       "      <th>3</th>\n",
       "      <th>4</th>\n",
       "      <th>5</th>\n",
       "      <th>6</th>\n",
       "      <th>7</th>\n",
       "      <th>8</th>\n",
       "      <th>9</th>\n",
       "      <th>10</th>\n",
       "    </tr>\n",
       "    <tr>\n",
       "      <th>0</th>\n",
       "      <th></th>\n",
       "      <th></th>\n",
       "      <th></th>\n",
       "      <th></th>\n",
       "      <th></th>\n",
       "      <th></th>\n",
       "      <th></th>\n",
       "      <th></th>\n",
       "      <th></th>\n",
       "      <th></th>\n",
       "    </tr>\n",
       "  </thead>\n",
       "  <tbody>\n",
       "    <tr>\n",
       "      <th>1000025</th>\n",
       "      <td>5</td>\n",
       "      <td>1</td>\n",
       "      <td>1</td>\n",
       "      <td>1</td>\n",
       "      <td>2</td>\n",
       "      <td>1.0</td>\n",
       "      <td>3</td>\n",
       "      <td>1</td>\n",
       "      <td>1</td>\n",
       "      <td>0</td>\n",
       "    </tr>\n",
       "    <tr>\n",
       "      <th>1002945</th>\n",
       "      <td>5</td>\n",
       "      <td>4</td>\n",
       "      <td>4</td>\n",
       "      <td>5</td>\n",
       "      <td>7</td>\n",
       "      <td>10.0</td>\n",
       "      <td>3</td>\n",
       "      <td>2</td>\n",
       "      <td>1</td>\n",
       "      <td>0</td>\n",
       "    </tr>\n",
       "    <tr>\n",
       "      <th>1015425</th>\n",
       "      <td>3</td>\n",
       "      <td>1</td>\n",
       "      <td>1</td>\n",
       "      <td>1</td>\n",
       "      <td>2</td>\n",
       "      <td>2.0</td>\n",
       "      <td>3</td>\n",
       "      <td>1</td>\n",
       "      <td>1</td>\n",
       "      <td>0</td>\n",
       "    </tr>\n",
       "    <tr>\n",
       "      <th>1016277</th>\n",
       "      <td>6</td>\n",
       "      <td>8</td>\n",
       "      <td>8</td>\n",
       "      <td>1</td>\n",
       "      <td>3</td>\n",
       "      <td>4.0</td>\n",
       "      <td>3</td>\n",
       "      <td>7</td>\n",
       "      <td>1</td>\n",
       "      <td>0</td>\n",
       "    </tr>\n",
       "    <tr>\n",
       "      <th>1017023</th>\n",
       "      <td>4</td>\n",
       "      <td>1</td>\n",
       "      <td>1</td>\n",
       "      <td>3</td>\n",
       "      <td>2</td>\n",
       "      <td>1.0</td>\n",
       "      <td>3</td>\n",
       "      <td>1</td>\n",
       "      <td>1</td>\n",
       "      <td>0</td>\n",
       "    </tr>\n",
       "    <tr>\n",
       "      <th>...</th>\n",
       "      <td>...</td>\n",
       "      <td>...</td>\n",
       "      <td>...</td>\n",
       "      <td>...</td>\n",
       "      <td>...</td>\n",
       "      <td>...</td>\n",
       "      <td>...</td>\n",
       "      <td>...</td>\n",
       "      <td>...</td>\n",
       "      <td>...</td>\n",
       "    </tr>\n",
       "    <tr>\n",
       "      <th>776715</th>\n",
       "      <td>3</td>\n",
       "      <td>1</td>\n",
       "      <td>1</td>\n",
       "      <td>1</td>\n",
       "      <td>3</td>\n",
       "      <td>2.0</td>\n",
       "      <td>1</td>\n",
       "      <td>1</td>\n",
       "      <td>1</td>\n",
       "      <td>0</td>\n",
       "    </tr>\n",
       "    <tr>\n",
       "      <th>841769</th>\n",
       "      <td>2</td>\n",
       "      <td>1</td>\n",
       "      <td>1</td>\n",
       "      <td>1</td>\n",
       "      <td>2</td>\n",
       "      <td>1.0</td>\n",
       "      <td>1</td>\n",
       "      <td>1</td>\n",
       "      <td>1</td>\n",
       "      <td>0</td>\n",
       "    </tr>\n",
       "    <tr>\n",
       "      <th>888820</th>\n",
       "      <td>5</td>\n",
       "      <td>10</td>\n",
       "      <td>10</td>\n",
       "      <td>3</td>\n",
       "      <td>7</td>\n",
       "      <td>3.0</td>\n",
       "      <td>8</td>\n",
       "      <td>10</td>\n",
       "      <td>2</td>\n",
       "      <td>1</td>\n",
       "    </tr>\n",
       "    <tr>\n",
       "      <th>897471</th>\n",
       "      <td>4</td>\n",
       "      <td>8</td>\n",
       "      <td>6</td>\n",
       "      <td>4</td>\n",
       "      <td>3</td>\n",
       "      <td>4.0</td>\n",
       "      <td>10</td>\n",
       "      <td>6</td>\n",
       "      <td>1</td>\n",
       "      <td>1</td>\n",
       "    </tr>\n",
       "    <tr>\n",
       "      <th>897471</th>\n",
       "      <td>4</td>\n",
       "      <td>8</td>\n",
       "      <td>8</td>\n",
       "      <td>5</td>\n",
       "      <td>4</td>\n",
       "      <td>5.0</td>\n",
       "      <td>10</td>\n",
       "      <td>4</td>\n",
       "      <td>1</td>\n",
       "      <td>1</td>\n",
       "    </tr>\n",
       "  </tbody>\n",
       "</table>\n",
       "<p>683 rows × 10 columns</p>\n",
       "</div>"
      ],
      "text/plain": [
       "         1   2   3   4   5     6   7   8   9   10\n",
       "0                                                \n",
       "1000025   5   1   1   1   2   1.0   3   1   1   0\n",
       "1002945   5   4   4   5   7  10.0   3   2   1   0\n",
       "1015425   3   1   1   1   2   2.0   3   1   1   0\n",
       "1016277   6   8   8   1   3   4.0   3   7   1   0\n",
       "1017023   4   1   1   3   2   1.0   3   1   1   0\n",
       "...      ..  ..  ..  ..  ..   ...  ..  ..  ..  ..\n",
       "776715    3   1   1   1   3   2.0   1   1   1   0\n",
       "841769    2   1   1   1   2   1.0   1   1   1   0\n",
       "888820    5  10  10   3   7   3.0   8  10   2   1\n",
       "897471    4   8   6   4   3   4.0  10   6   1   1\n",
       "897471    4   8   8   5   4   5.0  10   4   1   1\n",
       "\n",
       "[683 rows x 10 columns]"
      ]
     },
     "execution_count": 3,
     "metadata": {},
     "output_type": "execute_result"
    }
   ],
   "source": [
    "df = pd.read_csv(\"data/breast-cancer-wisconsin.data\", header=None, index_col=0, na_values=\"?\")\n",
    "df = df.dropna()  # Drop rows with nulls\n",
    "df = df.replace({10: {2: 0, 4: 1}})  # Set binary target to 0/1\n",
    "df"
   ]
  },
  {
   "cell_type": "code",
   "execution_count": 4,
   "id": "922b9cde",
   "metadata": {
    "ExecuteTime": {
     "end_time": "2023-04-18T04:05:41.861497Z",
     "start_time": "2023-04-18T04:05:41.858287Z"
    }
   },
   "outputs": [
    {
     "data": {
      "text/plain": [
       "0    444\n",
       "1    239\n",
       "Name: 10, dtype: int64"
      ]
     },
     "execution_count": 4,
     "metadata": {},
     "output_type": "execute_result"
    }
   ],
   "source": [
    "df[10].value_counts()"
   ]
  },
  {
   "cell_type": "markdown",
   "id": "c87e1db7",
   "metadata": {},
   "source": [
    "## Create X and y"
   ]
  },
  {
   "cell_type": "code",
   "execution_count": 5,
   "id": "4a759e7a",
   "metadata": {
    "ExecuteTime": {
     "end_time": "2023-04-18T04:05:41.867288Z",
     "start_time": "2023-04-18T04:05:41.863008Z"
    }
   },
   "outputs": [
    {
     "data": {
      "text/plain": [
       "tensor([[ 5.,  1.,  1.,  ...,  1.,  1.,  0.],\n",
       "        [ 5.,  4.,  4.,  ...,  2.,  1.,  0.],\n",
       "        [ 3.,  1.,  1.,  ...,  1.,  1.,  0.],\n",
       "        ...,\n",
       "        [ 5., 10., 10.,  ..., 10.,  2.,  1.],\n",
       "        [ 4.,  8.,  6.,  ...,  6.,  1.,  1.],\n",
       "        [ 4.,  8.,  8.,  ...,  4.,  1.,  1.]])"
      ]
     },
     "execution_count": 5,
     "metadata": {},
     "output_type": "execute_result"
    }
   ],
   "source": [
    "X = torch.from_numpy(df.values).float()\n",
    "X"
   ]
  },
  {
   "cell_type": "code",
   "execution_count": 6,
   "id": "a4b58f3f",
   "metadata": {
    "ExecuteTime": {
     "end_time": "2023-04-18T04:05:41.870548Z",
     "start_time": "2023-04-18T04:05:41.868459Z"
    },
    "scrolled": true
   },
   "outputs": [],
   "source": [
    "X, y = X[:, :-1], X[:, -1]\n",
    "X = torch.hstack((X, torch.ones((len(X), 1))))"
   ]
  },
  {
   "cell_type": "code",
   "execution_count": 7,
   "id": "082b6beb",
   "metadata": {
    "ExecuteTime": {
     "end_time": "2023-04-18T04:05:41.875492Z",
     "start_time": "2023-04-18T04:05:41.872007Z"
    },
    "scrolled": true
   },
   "outputs": [
    {
     "data": {
      "text/plain": [
       "tensor([[ 5.,  1.,  1.,  ...,  1.,  1.,  1.],\n",
       "        [ 5.,  4.,  4.,  ...,  2.,  1.,  1.],\n",
       "        [ 3.,  1.,  1.,  ...,  1.,  1.,  1.],\n",
       "        ...,\n",
       "        [ 5., 10., 10.,  ..., 10.,  2.,  1.],\n",
       "        [ 4.,  8.,  6.,  ...,  6.,  1.,  1.],\n",
       "        [ 4.,  8.,  8.,  ...,  4.,  1.,  1.]])"
      ]
     },
     "execution_count": 7,
     "metadata": {},
     "output_type": "execute_result"
    }
   ],
   "source": [
    "X"
   ]
  },
  {
   "cell_type": "markdown",
   "id": "0fa61a79",
   "metadata": {},
   "source": [
    "# Training"
   ]
  },
  {
   "cell_type": "code",
   "execution_count": 8,
   "id": "44e6b230",
   "metadata": {
    "ExecuteTime": {
     "end_time": "2023-04-18T04:05:41.880380Z",
     "start_time": "2023-04-18T04:05:41.876522Z"
    }
   },
   "outputs": [
    {
     "data": {
      "text/plain": [
       "Parameter containing:\n",
       "tensor([ 1.5410, -0.2934, -2.1788,  0.5684, -1.0845, -1.3986,  0.4033,  0.8380,\n",
       "        -0.7193, -0.4033], requires_grad=True)"
      ]
     },
     "execution_count": 8,
     "metadata": {},
     "output_type": "execute_result"
    }
   ],
   "source": [
    "torch.manual_seed(0)\n",
    "w = torch.nn.Parameter(torch.randn(X.shape[1]))\n",
    "w"
   ]
  },
  {
   "cell_type": "code",
   "execution_count": 9,
   "id": "1a7afda9",
   "metadata": {
    "ExecuteTime": {
     "end_time": "2023-04-18T04:05:41.888892Z",
     "start_time": "2023-04-18T04:05:41.883628Z"
    }
   },
   "outputs": [
    {
     "data": {
      "text/plain": [
       "tensor([ 3.1590e+00, -1.9156e+01, -1.3216e+00, -1.2858e+01,  2.7549e+00,\n",
       "        -2.1051e+01, -1.5592e+01, -3.6428e+00, -5.1477e+00,  9.2125e-01,\n",
       "        -1.9204e+00, -1.8673e+00, -5.2832e-01, -5.8022e+00, -1.2188e+01,\n",
       "        -6.0866e+00,  1.2147e+00,  1.6180e+00, -1.6199e+01,  4.7000e+00,\n",
       "        -6.0867e+00, -1.4620e+00, -3.2632e-01, -3.0050e+00, -3.9881e+00,\n",
       "         4.6477e-01,  2.7557e+00, -1.8673e+00, -8.1692e+00,  7.5820e-01,\n",
       "        -1.4640e+00, -1.2245e+01, -8.9554e-01, -2.5051e+00, -1.8673e+00,\n",
       "        -3.0241e+00,  7.1045e+00, -7.3007e+00, -1.3623e+01,  5.5873e+00,\n",
       "        -3.4225e+01, -1.2857e+01, -6.6288e+00, -4.1276e+00, -2.0139e+01,\n",
       "        -3.4083e+00,  2.7549e+00, -1.5130e+01, -1.3180e+01, -1.7618e+00,\n",
       "         4.9905e-01, -2.2243e+01, -1.0867e+01, -3.9335e+00, -1.5841e+01,\n",
       "        -1.1384e+00, -1.7611e+01, -5.8934e-01,  1.9460e-01, -4.8069e+00,\n",
       "        -2.9717e+01, -3.7116e-01, -3.4083e+00,  9.2789e-01,  1.6180e+00,\n",
       "        -1.5951e+01, -1.6591e+01, -2.1669e+00, -1.6019e+00, -5.2091e+00,\n",
       "        -4.9296e+00, -5.8125e+00, -3.0203e+00, -5.3410e+00, -9.9447e+00,\n",
       "         2.7372e+00, -2.7202e+00, -2.9518e+00, -1.2383e+00,  1.7831e+00,\n",
       "         2.8656e+00,  2.9182e-01, -2.3046e+01, -2.1775e+01, -1.9825e+01,\n",
       "        -1.9645e+01,  1.6180e+00, -2.3834e+00, -3.0050e+00, -1.6124e-01,\n",
       "         1.6180e+00, -3.4083e+00, -1.4640e+00, -3.0050e+00, -1.7022e+00,\n",
       "         3.1590e+00, -2.4848e+01, -1.0392e+01, -5.8856e+00, -9.5275e+00,\n",
       "        -5.6077e-01, -2.3909e+00, -1.2098e+01, -6.5362e+00, -1.9591e+01,\n",
       "        -2.7867e+01, -1.7323e+00, -7.5370e+00, -2.6585e+00, -1.3527e+01,\n",
       "         2.9901e-01, -2.6699e+01, -5.4858e+00, -9.4060e+00,  2.2770e+00,\n",
       "        -1.7981e+01, -8.7779e+00, -1.6150e+00, -4.6153e+00, -7.4001e-02,\n",
       "        -3.1037e+01, -2.2755e+01, -1.1629e+01, -3.4083e+00, -8.5476e+00,\n",
       "         7.7027e-02, -1.2991e+01, -1.2488e+01, -1.6019e+00, -1.4640e+00,\n",
       "        -2.5960e+01,  5.1171e-01, -1.4108e+00,  3.4365e+00,  1.2147e+00,\n",
       "        -7.2967e-01, -9.6411e-01, -7.2967e-01, -2.2707e+00, -5.9831e+00,\n",
       "        -9.4060e+00, -1.8673e+00, -2.2675e+01, -5.8914e+00,  1.3796e+00,\n",
       "        -2.3739e+01, -1.9204e+00, -1.5632e+01, -2.3907e+00, -1.9859e+00,\n",
       "        -3.8117e+00, -1.7560e+01, -5.8805e+00, -1.4640e+00, -2.2863e+01,\n",
       "        -1.2989e+01,  2.4560e+00,  7.7027e-02, -9.2714e+00,  1.0575e+00,\n",
       "        -2.0393e+01, -1.6495e+01,  7.7027e-02, -2.1587e+00, -7.2967e-01,\n",
       "        -3.0050e+00, -3.4083e+00, -2.5478e+01, -1.3157e+01, -2.3986e+01,\n",
       "        -1.4640e+00, -1.7551e+01,  1.6180e+00, -1.7574e+01, -1.9204e+00,\n",
       "        -3.8117e+00,  4.7000e+00, -1.8529e+01, -1.7117e+01, -3.7945e-01,\n",
       "        -2.0476e+01, -1.2845e+01, -3.3969e+00, -7.6560e+00, -1.2380e+01,\n",
       "        -2.4182e+01,  2.7557e+00, -3.0050e+00,  7.7027e-02,  1.6180e+00,\n",
       "        -1.1612e+00,  4.8643e+00, -3.8117e+00, -3.2632e-01, -1.3036e+01,\n",
       "        -2.3983e+01, -3.0050e+00,  3.1590e+00, -3.0050e+00, -2.5190e+01,\n",
       "        -1.5735e+01, -1.9204e+00, -1.9204e+00,  4.2435e+00, -1.9230e+01,\n",
       "        -1.1449e+01, -3.0050e+00, -1.7282e+01, -1.2928e+01, -7.0378e+00,\n",
       "        -3.4083e+00, -3.0050e+00, -7.2972e+00,  3.4244e-01, -2.4365e+00,\n",
       "        -7.3039e+00, -2.1583e+00, -1.1437e+01, -2.2563e+00, -3.4083e+00,\n",
       "        -7.7126e+00, -9.7594e+00, -1.9204e+00, -2.1550e+01, -9.6793e+00,\n",
       "        -1.4280e+01, -1.8605e+00, -1.1895e+01,  4.1699e-01, -2.5171e+01,\n",
       "        -5.6577e+00, -2.4947e+01, -5.7138e+00, -1.8759e-01,  2.2984e+00,\n",
       "        -1.4640e+00, -7.7927e+00, -3.0050e+00,  2.3289e+00, -1.8850e+01,\n",
       "        -9.1474e+00,  5.8082e+00, -6.2839e+00, -2.9799e+00, -9.7290e+00,\n",
       "        -3.4225e+01, -2.9717e+01, -1.9200e+01, -7.2967e-01, -3.2632e-01,\n",
       "         7.7027e-02, -2.2204e+01, -1.4749e+01, -3.3376e+01, -1.8358e+01,\n",
       "        -4.2034e+00, -7.9560e+00, -2.5393e+00, -1.3846e+01, -2.0715e+01,\n",
       "        -9.1433e+00, -3.0050e+00, -1.3858e+01,  3.1590e+00, -2.0715e+01,\n",
       "        -4.1930e+00,  9.1505e-01, -3.2632e-01, -3.4083e+00, -3.0050e+00,\n",
       "        -1.5080e+01,  7.7027e-02, -8.9554e-01, -1.2887e+01, -1.1015e+01,\n",
       "        -5.6790e+00, -2.2033e+01, -2.6061e+01, -1.4108e+00,  9.2794e-01,\n",
       "        -1.6361e+01, -3.8117e+00, -3.0050e+00, -5.0252e+00, -1.9906e+01,\n",
       "        -5.1593e+00,  3.4283e+00,  1.1523e+00, -7.6429e+00, -3.0050e+00,\n",
       "        -2.5472e+01, -3.0050e+00, -6.7896e+00, -5.3930e+00, -3.0050e+00,\n",
       "        -3.0050e+00, -5.2847e+00, -4.7107e+00, -2.9518e+00, -3.8117e+00,\n",
       "        -4.2970e-01, -3.8117e+00, -2.3238e+00, -1.9923e+01, -1.1855e+01,\n",
       "        -6.2585e+00, -1.0736e+01, -1.4325e+01,  7.7027e-02, -1.5683e+01,\n",
       "        -3.0050e+00, -1.1225e+00,  1.5974e+00, -3.4083e+00,  3.6036e-01,\n",
       "        -1.3432e+01, -1.1101e+01,  2.4398e+00,  1.6899e+00, -1.8450e+01,\n",
       "        -1.7498e+01, -3.8117e+00, -1.3452e+01, -3.0050e+00, -2.3238e+00,\n",
       "        -1.0341e+01, -8.6428e-01, -3.0050e+00, -2.2707e+00, -3.8117e+00,\n",
       "        -1.4713e+01, -3.8117e+00,  1.0401e+00, -1.0511e+00, -3.8013e+00,\n",
       "        -5.8304e+00,  3.4892e+00, -1.4640e+00, -1.2008e+01, -3.0778e+01,\n",
       "        -3.4083e+00,  9.6818e-01, -5.4296e+00, -3.4066e+01, -6.6330e+00,\n",
       "        -4.2952e+00, -3.0612e+01, -2.0082e+01, -7.7648e+00, -8.4307e+00,\n",
       "        -1.4640e+00, -1.8673e+00, -2.6688e+01, -1.6751e+01, -8.1692e+00,\n",
       "        -6.6814e+00, -2.6355e+00, -8.1692e+00, -9.6411e-01,  3.3241e+00,\n",
       "        -2.5051e+00, -3.8117e+00, -3.4083e+00, -2.3238e+00,  1.1325e+00,\n",
       "        -6.1333e+00, -3.8117e+00, -1.5532e+00, -9.8873e-01, -2.2707e+00,\n",
       "        -2.2707e+00, -4.6119e+00, -1.5957e+01, -2.3015e+00, -1.0293e+00,\n",
       "         1.1106e+00, -2.8399e+00, -7.9117e+00, -3.2632e-01, -2.7271e+00,\n",
       "        -8.0593e+00, -3.2632e-01,  7.7027e-02,  8.1133e-01,  2.1828e-01,\n",
       "        -8.4627e+00, -3.0870e+01, -7.2967e-01, -2.1888e+00, -4.9255e+00,\n",
       "        -2.1302e+00, -3.4083e+00, -1.2575e+00, -3.4083e+00, -5.0598e+00,\n",
       "        -2.5051e+00, -3.4083e+00, -1.3878e+01,  9.8023e-01, -1.1989e+01,\n",
       "        -3.7607e-01, -2.5768e+01, -3.4083e+00, -2.4595e-02, -6.1111e+00,\n",
       "        -4.0555e+00, -2.6384e+01, -1.6504e+00, -1.6019e+00, -7.2967e-01,\n",
       "        -1.8709e+01, -9.1285e+00, -3.8804e+00, -3.4083e+00, -1.8673e+00,\n",
       "        -3.1571e+00,  2.9649e+00,  3.5937e+00, -2.0650e+00, -2.0249e+01,\n",
       "        -2.3664e+01, -1.0261e+01,  8.1133e-01, -2.4094e+00,  2.3523e+00,\n",
       "        -1.1910e+00, -2.6104e+00, -5.4720e+00, -5.2103e+00,  4.5133e+00,\n",
       "        -2.2707e+00, -3.8117e+00,  2.3523e+00, -2.7271e+00, -1.9419e+01,\n",
       "         3.4361e+00,  2.3523e+00,  4.0720e-01, -1.3366e+01, -3.9420e+00,\n",
       "        -1.2715e-01, -4.9733e+00, -5.6298e+00,  1.7354e-01, -2.0053e+00,\n",
       "         3.4892e+00, -6.3240e+00,  5.0302e+00,  1.6494e+00,  8.1133e-01,\n",
       "        -4.1411e+00, -8.2368e+00, -1.5059e+01,  8.1133e-01, -5.5871e+00,\n",
       "         7.5820e-01,  5.0302e+00,  4.9778e+00,  8.1133e-01,  2.3523e+00,\n",
       "        -7.2967e-01, -1.3675e+00,  8.1133e-01,  2.0589e+00, -1.8184e+01,\n",
       "         3.4368e+00,  1.2920e+00, -1.8189e+01, -1.2835e+01,  1.7354e-01,\n",
       "        -4.3875e+00,  7.5820e-01, -2.4056e+01, -4.1782e+00, -2.9426e+00,\n",
       "        -3.8117e+00, -2.6678e+01,  2.2992e+00, -2.7058e+01, -2.0707e+00,\n",
       "         7.5820e-01, -2.7271e+00,  5.1790e-01,  1.2147e+00,  1.2147e+00,\n",
       "         4.7000e+00,  1.2147e+00,  1.7831e+00,  1.6180e+00, -3.8117e+00,\n",
       "        -1.3165e+00, -1.8415e+01, -8.0074e+00,  2.3523e+00, -2.2707e+00,\n",
       "        -3.8117e+00,  2.7557e+00,  2.3523e+00,  7.5820e-01, -9.5562e+00,\n",
       "        -7.8582e+00, -2.7271e+00, -2.3238e+00, -2.3400e+00, -2.6594e+01,\n",
       "        -4.8962e+00, -2.7319e-01, -4.1561e-01, -1.2984e+01, -3.2632e-01,\n",
       "        -1.6124e-01,  8.1133e-01,  1.6180e+00,  1.0417e-01,  2.2992e+00,\n",
       "        -6.8809e+00, -1.2575e+00, -1.9204e+00, -3.2632e-01, -1.8673e+00,\n",
       "        -6.7941e+00,  3.1590e+00,  9.8023e-01,  1.2147e+00,  4.2967e+00,\n",
       "         1.3571e+00, -7.2967e-01,  1.7655e+00,  1.2147e+00, -5.6565e+00,\n",
       "         2.7557e+00, -1.8035e+01, -1.1861e+00,  3.5486e-01,  2.2369e+00,\n",
       "        -3.2632e-01, -3.0050e+00, -5.8539e-01, -8.1580e+00, -7.2967e-01,\n",
       "         7.3007e+00,  1.9364e+00,  3.4892e+00, -1.8673e+00,  2.7557e+00,\n",
       "         3.1590e+00,  3.1590e+00, -3.0050e+00, -3.2632e-01,  2.4560e+00,\n",
       "        -1.8570e+01, -2.1018e+00, -1.5825e+00, -1.4331e+01, -7.3455e+00,\n",
       "        -1.5930e+01, -1.6990e+01, -3.2632e-01, -3.4083e+00, -3.4540e-01,\n",
       "         9.8023e-01,  2.7557e+00, -3.4083e+00, -3.4083e+00, -3.0050e+00,\n",
       "         5.7688e-01, -2.6244e+01, -1.0386e+01, -7.2967e-01,  4.1100e+00,\n",
       "        -3.8117e+00, -1.5912e+01,  3.5937e+00, -1.0167e+01,  2.3523e+00,\n",
       "        -1.3346e+01, -2.1821e+01, -7.2540e+00,  1.7354e-01, -2.3336e+01,\n",
       "         2.7557e+00, -9.6411e-01, -1.1986e+00, -3.2632e-01, -3.3929e+00,\n",
       "        -3.2632e-01, -2.3238e+00,  1.2147e+00,  2.7537e+00, -1.0171e+01,\n",
       "        -1.5785e+01,  1.3798e+00, -3.8117e+00, -3.2415e+01,  2.3523e+00,\n",
       "        -2.0357e+00, -1.3258e+01, -2.2385e+01, -2.4542e+00, -7.8279e-01,\n",
       "        -3.1429e+00, -3.2632e-01,  1.2147e+00,  2.7557e+00, -3.2632e-01,\n",
       "        -3.8064e-01,  4.7957e+00, -3.8117e+00,  4.4086e+00, -1.0368e+01,\n",
       "        -1.5682e+01, -7.8650e+00, -2.2707e+00,  8.1133e-01, -7.5769e-01,\n",
       "         2.7557e+00, -3.8117e+00,  3.4885e+00, -7.2967e-01, -7.2660e+00,\n",
       "         2.6340e+00, -5.8769e+00,  8.1133e-01,  3.4892e+00,  1.9482e+00,\n",
       "        -3.2632e-01, -3.2632e-01, -3.8117e+00, -2.2707e+00, -3.2632e-01,\n",
       "        -6.2839e+00, -2.6748e+00, -2.0157e+01, -3.2632e-01, -5.4415e+00,\n",
       "        -2.5649e+00,  3.5937e+00,  1.2147e+00,  7.7027e-02, -3.2632e-01,\n",
       "         2.7557e+00, -8.7534e+00, -2.0313e+01, -3.8117e+00, -3.4083e+00,\n",
       "         1.6180e+00, -7.7659e+00, -7.7659e+00,  8.1054e-01, -3.8117e+00,\n",
       "        -2.7072e-01,  7.7027e-02, -1.7589e+00, -1.4804e+01, -2.0574e+01,\n",
       "         3.5203e-01, -1.4640e+00, -1.4978e+00, -3.4083e+00, -5.7250e+00,\n",
       "        -5.5871e+00,  2.3523e+00, -3.8117e+00, -2.2707e+00, -1.6061e+01,\n",
       "        -2.5173e+01,  3.9970e+00, -3.8117e+00, -3.8117e+00, -3.8117e+00,\n",
       "        -3.8117e+00,  1.3497e+00,  8.1133e-01, -8.8465e+00, -2.6748e+00,\n",
       "        -2.1663e+01, -7.2967e-01, -1.0456e+00, -3.2128e+00, -2.2707e+00,\n",
       "        -1.7334e+01, -7.8914e+00, -1.5840e+01], grad_fn=<MvBackward0>)"
      ]
     },
     "execution_count": 9,
     "metadata": {},
     "output_type": "execute_result"
    }
   ],
   "source": [
    "X @ w"
   ]
  }
 ],
 "metadata": {
  "kernelspec": {
   "display_name": "Python 3 (ipykernel)",
   "language": "python",
   "name": "python3"
  },
  "language_info": {
   "codemirror_mode": {
    "name": "ipython",
    "version": 3
   },
   "file_extension": ".py",
   "mimetype": "text/x-python",
   "name": "python",
   "nbconvert_exporter": "python",
   "pygments_lexer": "ipython3",
   "version": "3.9.16"
  }
 },
 "nbformat": 4,
 "nbformat_minor": 5
}
