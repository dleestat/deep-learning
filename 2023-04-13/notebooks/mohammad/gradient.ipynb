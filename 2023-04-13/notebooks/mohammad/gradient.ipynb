{
 "cells": [
  {
   "cell_type": "code",
   "execution_count": 1,
   "id": "af7da5f0-9dfa-46d8-95f0-12bd3b1a8507",
   "metadata": {},
   "outputs": [],
   "source": [
    "import torch\n",
    "import numpy as np"
   ]
  },
  {
   "cell_type": "code",
   "execution_count": 2,
   "id": "d2c1c766-1489-471e-bbd5-d3fb38866526",
   "metadata": {},
   "outputs": [
    {
     "data": {
      "text/plain": [
       "tensor(31., grad_fn=<AddBackward0>)"
      ]
     },
     "execution_count": 2,
     "metadata": {},
     "output_type": "execute_result"
    }
   ],
   "source": [
    "x = torch.tensor(2.0, requires_grad=True)\n",
    "y = x**3 + 3*x**2 + 5*x + 1\n",
    "y"
   ]
  },
  {
   "cell_type": "code",
   "execution_count": 3,
   "id": "d6a4296f-1c72-4e9d-90d6-ad72be6b9b89",
   "metadata": {},
   "outputs": [],
   "source": [
    "y.backward() # dy/dx"
   ]
  },
  {
   "cell_type": "code",
   "execution_count": 4,
   "id": "a026e7cb-f863-475b-943a-86c75392f5c8",
   "metadata": {},
   "outputs": [
    {
     "data": {
      "text/plain": [
       "tensor(29.)"
      ]
     },
     "execution_count": 4,
     "metadata": {},
     "output_type": "execute_result"
    }
   ],
   "source": [
    "x.grad"
   ]
  },
  {
   "cell_type": "code",
   "execution_count": 5,
   "id": "da93f8e9-aed5-4f8a-9d3e-7db25427dc9e",
   "metadata": {},
   "outputs": [],
   "source": [
    "# 3x**2 + 6x + 5 when x=2 => 12+12+5=29 "
   ]
  },
  {
   "cell_type": "markdown",
   "id": "6a33a2f5-5079-4a62-9239-9fa4286838ca",
   "metadata": {},
   "source": [
    "### gradient multi step"
   ]
  },
  {
   "cell_type": "code",
   "execution_count": 6,
   "id": "712adad0-1c47-43a3-bda7-5c0cb6809a58",
   "metadata": {},
   "outputs": [
    {
     "name": "stdout",
     "output_type": "stream",
     "text": [
      "tensor([[1., 2., 3.],\n",
      "        [3., 2., 1.]], requires_grad=True)\n"
     ]
    }
   ],
   "source": [
    "x = torch.tensor([[1.,2,3],[3,2,1]], requires_grad=True)\n",
    "print(x)"
   ]
  },
  {
   "cell_type": "code",
   "execution_count": 7,
   "id": "5c02523a-ebd9-4f47-ae0a-ba61f345ba8d",
   "metadata": {},
   "outputs": [
    {
     "name": "stdout",
     "output_type": "stream",
     "text": [
      "tensor([[ 5.,  8., 11.],\n",
      "        [11.,  8.,  5.]], grad_fn=<AddBackward0>)\n"
     ]
    }
   ],
   "source": [
    "y = 3*x + 2\n",
    "print(y)"
   ]
  },
  {
   "cell_type": "code",
   "execution_count": 8,
   "id": "57969df8-a86e-4989-af49-d319731d29ec",
   "metadata": {},
   "outputs": [
    {
     "name": "stdout",
     "output_type": "stream",
     "text": [
      "tensor([[ 50., 128., 242.],\n",
      "        [242., 128.,  50.]], grad_fn=<MulBackward0>)\n"
     ]
    }
   ],
   "source": [
    "z = 2*y**2\n",
    "print(z)"
   ]
  },
  {
   "cell_type": "code",
   "execution_count": 9,
   "id": "75575c7e-8ad9-43c2-a293-9758ecc93dcf",
   "metadata": {},
   "outputs": [
    {
     "name": "stdout",
     "output_type": "stream",
     "text": [
      "tensor(140., grad_fn=<MeanBackward0>)\n"
     ]
    }
   ],
   "source": [
    "out = z.mean()\n",
    "print(out)"
   ]
  },
  {
   "cell_type": "code",
   "execution_count": 10,
   "id": "ca172b8c-5390-4f40-a1bf-7cd41d627e9f",
   "metadata": {},
   "outputs": [
    {
     "name": "stdout",
     "output_type": "stream",
     "text": [
      "tensor([[10., 16., 22.],\n",
      "        [22., 16., 10.]])\n"
     ]
    }
   ],
   "source": [
    "out.backward() # dout/dx when x\n",
    "print(x.grad)"
   ]
  },
  {
   "cell_type": "markdown",
   "id": "922d24d1-5522-4dd8-aa2d-ea439964a26a",
   "metadata": {},
   "source": [
    "### Turn off tracking\n",
    "\n",
    "- .requires_grad_(True) (or False)\n",
    "- with torch.no_grad():\n",
    "- .detach()"
   ]
  },
  {
   "cell_type": "code",
   "execution_count": 12,
   "id": "ae5acddc-481a-4957-bf5f-5f566f58fbbe",
   "metadata": {},
   "outputs": [
    {
     "data": {
      "text/plain": [
       "tensor(12.)"
      ]
     },
     "execution_count": 12,
     "metadata": {},
     "output_type": "execute_result"
    }
   ],
   "source": [
    "x = torch.tensor(2.0, requires_grad=True)\n",
    "y = x * x\n",
    "u = y #.detach()\n",
    "z = u * x # z = x**3\n",
    "\n",
    "z.sum().backward() # 3x**2 -> 3*2**2=12\n",
    "x.grad"
   ]
  },
  {
   "cell_type": "code",
   "execution_count": 3,
   "id": "bb79f9f0-1fdc-415d-831b-065b17c25799",
   "metadata": {},
   "outputs": [
    {
     "data": {
      "text/plain": [
       "tensor(16.)"
      ]
     },
     "execution_count": 3,
     "metadata": {},
     "output_type": "execute_result"
    }
   ],
   "source": [
    "x = torch.tensor(2.0, requires_grad=True)\n",
    "y = x * x\n",
    "u = y.detach()\n",
    "z = u * x * x\n",
    "\n",
    "z.backward() #  u * 2x = 4 * 2*2 = 16\n",
    "x.grad"
   ]
  },
  {
   "cell_type": "code",
   "execution_count": null,
   "id": "cde7b521-b33c-434a-9465-87af59b4b53d",
   "metadata": {},
   "outputs": [],
   "source": []
  }
 ],
 "metadata": {
  "kernelspec": {
   "display_name": "Python 3 (ipykernel)",
   "language": "python",
   "name": "python3"
  },
  "language_info": {
   "codemirror_mode": {
    "name": "ipython",
    "version": 3
   },
   "file_extension": ".py",
   "mimetype": "text/x-python",
   "name": "python",
   "nbconvert_exporter": "python",
   "pygments_lexer": "ipython3",
   "version": "3.9.12"
  }
 },
 "nbformat": 4,
 "nbformat_minor": 5
}
