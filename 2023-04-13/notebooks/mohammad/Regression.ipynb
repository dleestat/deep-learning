{
 "cells": [
  {
   "cell_type": "code",
   "execution_count": 5,
   "id": "8fdbca23-0123-4239-8455-d2135fbf91ea",
   "metadata": {},
   "outputs": [],
   "source": [
    "%matplotlib inline\n",
    "import matplotlib.pyplot as plt"
   ]
  },
  {
   "cell_type": "code",
   "execution_count": 6,
   "id": "2e5ef4fb-0011-4e47-8219-698e6d7d11cb",
   "metadata": {},
   "outputs": [],
   "source": [
    "import torch\n",
    "import numpy as np"
   ]
  },
  {
   "cell_type": "code",
   "execution_count": 7,
   "id": "303990fe-4026-43cf-b7bf-83b35bc967bd",
   "metadata": {},
   "outputs": [
    {
     "data": {
      "text/plain": [
       "tensor([-0.0694, -0.0483,  0.3591,  0.0649,  0.0654,  0.4049, -0.5873,  0.7445,\n",
       "         0.3566, -0.9532,  0.1519,  0.0967, -0.6220,  0.7842, -0.8828, -0.7740,\n",
       "         0.4316, -0.3328,  0.6351,  0.4263, -0.3829, -0.7065,  0.1616, -0.6809,\n",
       "        -0.2940,  0.0595, -0.7200,  0.6411,  0.4434,  0.7609,  0.2839,  0.6213,\n",
       "         0.6072, -0.2006,  0.8043,  0.3341, -0.8897,  0.4303, -0.2761,  0.8941,\n",
       "         0.9071,  0.0752, -0.5385,  0.2388,  0.3580, -0.0832, -0.6428, -0.3519,\n",
       "        -0.0360, -0.7517,  0.8062, -0.5497, -0.3504, -0.8315, -0.2931, -0.9085,\n",
       "        -0.4660,  0.9156, -0.9127,  0.3668, -0.1132, -0.2438, -0.2316,  0.3916,\n",
       "         0.8010, -0.8456,  0.1214,  0.9683, -0.9280,  0.3150,  0.2944,  0.1803,\n",
       "         0.5762,  0.2909,  0.4876,  0.7760,  0.0609, -0.5170,  0.8158, -0.3120,\n",
       "         0.2691, -0.2917, -0.6737,  0.0785,  0.3696, -0.5609, -0.8880,  0.4923,\n",
       "         0.3482, -0.9346, -0.2373, -0.1381, -0.1001, -0.5236,  0.6165, -0.8714,\n",
       "         0.3037, -0.7523, -0.5017, -0.1560])"
      ]
     },
     "execution_count": 7,
     "metadata": {},
     "output_type": "execute_result"
    }
   ],
   "source": [
    "n=100\n",
    "x = torch.ones(n,2)\n",
    "x[:,0].uniform_(-1.,1)"
   ]
  },
  {
   "cell_type": "code",
   "execution_count": 8,
   "id": "2c870ae1-ff6e-4f8f-8b80-373552a173aa",
   "metadata": {},
   "outputs": [],
   "source": [
    "a = torch.tensor([3.,2]) # y = 3x+2\n",
    "y = x@a + 0.25*torch.randn(n)"
   ]
  },
  {
   "cell_type": "code",
   "execution_count": 9,
   "id": "e78fc286-5f34-4b04-8db7-5bb26c8fef85",
   "metadata": {},
   "outputs": [
    {
     "data": {
      "image/png": "[encoded data removed]",
      "text/plain": [
       "<Figure size 432x288 with 1 Axes>"
      ]
     },
     "metadata": {
      "needs_background": "light"
     },
     "output_type": "display_data"
    }
   ],
   "source": [
    "plt.scatter(x[:,0], y);"
   ]
  },
  {
   "cell_type": "markdown",
   "id": "8d2df758-ebcc-42de-88f1-bed1f69e51fc",
   "metadata": {},
   "source": [
    "## Gradient Descent"
   ]
  },
  {
   "cell_type": "code",
   "execution_count": 10,
   "id": "b28fdb47-eb43-49ce-8513-d412335738ad",
   "metadata": {},
   "outputs": [
    {
     "data": {
      "text/plain": [
       "Parameter containing:\n",
       "tensor([-1.,  1.], requires_grad=True)"
      ]
     },
     "execution_count": 10,
     "metadata": {},
     "output_type": "execute_result"
    }
   ],
   "source": [
    "w = torch.nn.Parameter(torch.tensor([-1., 1.]))\n",
    "w"
   ]
  },
  {
   "cell_type": "code",
   "execution_count": 11,
   "id": "0149d165-c872-4ac2-9777-61fe6b52c722",
   "metadata": {},
   "outputs": [],
   "source": [
    "def mse(yp, y): \n",
    "    return ((yp-y)**2).mean()"
   ]
  },
  {
   "cell_type": "code",
   "execution_count": 13,
   "id": "f3c57daf-dea8-48fc-9236-bf9d8bda222b",
   "metadata": {},
   "outputs": [
    {
     "data": {
      "text/plain": [
       "tensor(5.7729, grad_fn=<MeanBackward0>)"
      ]
     },
     "execution_count": 13,
     "metadata": {},
     "output_type": "execute_result"
    }
   ],
   "source": [
    "yp = x@w\n",
    "mse(yp, y)"
   ]
  },
  {
   "cell_type": "code",
   "execution_count": 18,
   "id": "6287d03e-dc7e-4a1a-9369-a08f6c7039eb",
   "metadata": {},
   "outputs": [],
   "source": [
    "def minimize_loss(i):\n",
    "    yp = x@w\n",
    "    loss = mse(yp, y)\n",
    "    if t % 10 == 0: print(i, loss)\n",
    "    loss.backward()\n",
    "    with torch.no_grad():\n",
    "        w.sub_(lr * w.grad) # w = w - lr * w.grad\n",
    "        w.grad.zero_()"
   ]
  },
  {
   "cell_type": "code",
   "execution_count": 19,
   "id": "8a8dfedb-ac58-4500-98c5-4b098b579e27",
   "metadata": {},
   "outputs": [
    {
     "name": "stdout",
     "output_type": "stream",
     "text": [
      "0 tensor(5.7729, grad_fn=<MeanBackward0>)\n",
      "10 tensor(1.4727, grad_fn=<MeanBackward0>)\n",
      "20 tensor(0.4541, grad_fn=<MeanBackward0>)\n",
      "30 tensor(0.1670, grad_fn=<MeanBackward0>)\n",
      "40 tensor(0.0854, grad_fn=<MeanBackward0>)\n",
      "50 tensor(0.0623, grad_fn=<MeanBackward0>)\n",
      "60 tensor(0.0557, grad_fn=<MeanBackward0>)\n",
      "70 tensor(0.0538, grad_fn=<MeanBackward0>)\n",
      "80 tensor(0.0533, grad_fn=<MeanBackward0>)\n",
      "90 tensor(0.0531, grad_fn=<MeanBackward0>)\n"
     ]
    }
   ],
   "source": [
    "lr = 1e-1\n",
    "for t in range(100): minimize_loss(t)"
   ]
  },
  {
   "cell_type": "code",
   "execution_count": 21,
   "id": "ab594a49-eb0c-4b71-b347-e91a7d1b59c5",
   "metadata": {},
   "outputs": [
    {
     "data": {
      "image/png": "[encoded data removed]",
      "text/plain": [
       "<Figure size 432x288 with 1 Axes>"
      ]
     },
     "metadata": {
      "needs_background": "light"
     },
     "output_type": "display_data"
    }
   ],
   "source": [
    "plt.scatter(x[:,0],y)\n",
    "plt.scatter(x[:,0],x@w.detach());"
   ]
  },
  {
   "cell_type": "code",
   "execution_count": 22,
   "id": "cd17e931-88dd-4144-bc85-12142dbcc23b",
   "metadata": {},
   "outputs": [
    {
     "data": {
      "text/plain": [
       "Parameter containing:\n",
       "tensor([2.9992, 1.9934], requires_grad=True)"
      ]
     },
     "execution_count": 22,
     "metadata": {},
     "output_type": "execute_result"
    }
   ],
   "source": [
    "w"
   ]
  },
  {
   "cell_type": "markdown",
   "id": "5a362782-4580-440d-b111-53e42eae5d36",
   "metadata": {},
   "source": [
    "* Loss function\n",
    "* Learning rate\n",
    "* Epoch\n",
    "* iteration\n",
    "* Minibatch\n",
    "* SGD"
   ]
  },
  {
   "cell_type": "code",
   "execution_count": null,
   "id": "d87dbea7-9c0b-4985-a37e-b3fa6c76dcfc",
   "metadata": {},
   "outputs": [],
   "source": []
  }
 ],
 "metadata": {
  "kernelspec": {
   "display_name": "Python 3 (ipykernel)",
   "language": "python",
   "name": "python3"
  },
  "language_info": {
   "codemirror_mode": {
    "name": "ipython",
    "version": 3
   },
   "file_extension": ".py",
   "mimetype": "text/x-python",
   "name": "python",
   "nbconvert_exporter": "python",
   "pygments_lexer": "ipython3",
   "version": "3.9.12"
  }
 },
 "nbformat": 4,
 "nbformat_minor": 5
}
